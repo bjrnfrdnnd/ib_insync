{
 "cells": [
  {
   "cell_type": "markdown",
   "metadata": {},
   "source": [
    "Contract details\n",
    "-------------------"
   ]
  },
  {
   "cell_type": "code",
   "execution_count": 2,
   "metadata": {
    "scrolled": true
   },
   "outputs": [
    {
     "data": {
      "text/plain": [
       "<IB connected to 127.0.0.1:7497 clientId=107>"
      ]
     },
     "execution_count": 2,
     "metadata": {},
     "output_type": "execute_result"
    }
   ],
   "source": [
    "from ib_insync import *\n",
    "util.startLoop()\n",
    "\n",
    "ib = IB()\n",
    "ib.connect('127.0.0.1', 7497, clientId=107)"
   ]
  },
  {
   "cell_type": "markdown",
   "metadata": {},
   "source": [
    "Suppose we want to find the contract details for AMD stock.\n",
    "Let's create a stock object and request the details for it:"
   ]
  },
  {
   "cell_type": "code",
   "execution_count": 3,
   "metadata": {},
   "outputs": [
    {
     "data": {
      "text/plain": [
       "2"
      ]
     },
     "execution_count": 3,
     "metadata": {},
     "output_type": "execute_result"
    }
   ],
   "source": [
    "amd = Contract(secType=\"OPT\", symbol=\"DE000KA33LU0\")\n",
    "amd = Contract(conId=382147169)\n",
    "amd = Contract(secType=\"IOPT\", localSymbol=\"KA33LU\")\n",
    "\n",
    "\n",
    "cds = ib.reqContractDetails(amd)\n",
    "\n",
    "len(cds)"
   ]
  },
  {
   "cell_type": "markdown",
   "metadata": {},
   "source": [
    "We get a long list of contract details. Lets print the first one:"
   ]
  },
  {
   "cell_type": "code",
   "execution_count": 4,
   "metadata": {},
   "outputs": [
    {
     "data": {
      "text/plain": [
       "ContractDetails(marketName='DAX', minTick=0.001, orderTypes='ACTIVETIM,ADJUST,ALERT,ALLOC,AVGCOST,BASKET,COND,CONDORDER,DAY,DEACT,DEACTDIS,DEACTEOD,GAT,GTC,GTD,GTT,HID,LIT,LMT,MIT,MKT,MTL,NONALGO,OCA,SCALE,SCALERST,SNAPMID,SNAPMKT,SNAPREL,STP,STPLMT,TRAIL,TRAILLIT,TRAILLMT,TRAILMIT,WHATIF', validExchanges='FWB,SWB', priceMagnifier=1, underConId=825711, longName='DAX 30 Index (Deutsche Aktien Xchange 30)', contractMonth='NOEXP', timeZoneId='MET', tradingHours='20190928:CLOSED;20190929:CLOSED;20190930:0900-20190930:2200;20191001:0900-20191001:2200;20191002:0900-20191002:2200;20191003:CLOSED;20191004:0900-20191004:2200;20191005:CLOSED;20191006:CLOSED;20191007:0900-20191007:2200;20191008:0900-20191008:2200;20191009:0900-20191009:2200;20191010:0900-20191010:2200;20191011:0900-20191011:2200;20191012:CLOSED;20191013:CLOSED;20191014:0900-20191014:2200;20191015:0900-20191015:2200;20191016:0900-20191016:2200;20191017:0900-20191017:2200;20191018:0900-20191018:2200;20191019:CLOSED;20191020:CLOSED;20191021:0900-20191021:2200;20191022:0900-20191022:2200;20191023:0900-20191023:2200;20191024:0900-20191024:2200;20191025:0900-20191025:2200;20191026:CLOSED;20191027:CLOSED;20191028:0900-20191028:2200;20191029:0900-20191029:2200;20191030:0900-20191030:2200;20191031:0900-20191031:2200;20191101:0900-20191101:2200', liquidHours='20190928:CLOSED;20190929:CLOSED;20190930:0900-20190930:2200;20191001:0900-20191001:2200;20191002:0900-20191002:2200;20191003:CLOSED;20191004:0900-20191004:2200;20191005:CLOSED;20191006:CLOSED;20191007:0900-20191007:2200;20191008:0900-20191008:2200;20191009:0900-20191009:2200;20191010:0900-20191010:2200;20191011:0900-20191011:2200;20191012:CLOSED;20191013:CLOSED;20191014:0900-20191014:2200;20191015:0900-20191015:2200;20191016:0900-20191016:2200;20191017:0900-20191017:2200;20191018:0900-20191018:2200;20191019:CLOSED;20191020:CLOSED;20191021:0900-20191021:2200;20191022:0900-20191022:2200;20191023:0900-20191023:2200;20191024:0900-20191024:2200;20191025:0900-20191025:2200;20191026:CLOSED;20191027:CLOSED;20191028:0900-20191028:2200;20191029:0900-20191029:2200;20191030:0900-20191030:2200;20191031:0900-20191031:2200;20191101:0900-20191101:2200', mdSizeMultiplier=1, aggGroup=2147483647, underSymbol='DAX', underSecType='IND', marketRuleIds='220,576', secIdList=[TagValue(tag='ISIN', value='DE000KA33LU0')], realExpirationDate='NOEXP', summary=Contract(secType='IOPT', conId=382147169, symbol='DAX', lastTradeDateOrContractMonth='NOEXP', strike=12081.2263, right='C', multiplier='0.01', exchange='FWB', currency='EUR', localSymbol='KA33LU', tradingClass='DAX'))"
      ]
     },
     "execution_count": 4,
     "metadata": {},
     "output_type": "execute_result"
    }
   ],
   "source": [
    "cds[0]"
   ]
  },
  {
   "cell_type": "markdown",
   "metadata": {},
   "source": [
    "The contract itself is in the 'summary' property of the contract details. Lets make a list of contracts and look at the first:"
   ]
  },
  {
   "cell_type": "code",
   "execution_count": 5,
   "metadata": {},
   "outputs": [
    {
     "data": {
      "text/plain": [
       "[Contract(secType='IOPT', conId=382147169, symbol='DAX', lastTradeDateOrContractMonth='NOEXP', strike=12081.2263, right='C', multiplier='0.01', exchange='FWB', currency='EUR', localSymbol='KA33LU', tradingClass='DAX'),\n",
       " Contract(secType='IOPT', conId=382147169, symbol='DAX', lastTradeDateOrContractMonth='NOEXP', strike=12081.2263, right='C', multiplier='0.01', exchange='SWB', currency='EUR', localSymbol='KA33LU', tradingClass='DAX')]"
      ]
     },
     "execution_count": 5,
     "metadata": {},
     "output_type": "execute_result"
    }
   ],
   "source": [
    "contracts = [cd.summary for cd in cds]\n",
    "\n",
    "contracts"
   ]
  },
  {
   "cell_type": "markdown",
   "metadata": {},
   "source": [
    "To better spot the difference between all the contracts it's handy to convert to a DataFrame. There is a utility function to do that:"
   ]
  },
  {
   "cell_type": "code",
   "execution_count": 6,
   "metadata": {},
   "outputs": [
    {
     "data": {
      "text/html": [
       "<div>\n",
       "<style scoped>\n",
       "    .dataframe tbody tr th:only-of-type {\n",
       "        vertical-align: middle;\n",
       "    }\n",
       "\n",
       "    .dataframe tbody tr th {\n",
       "        vertical-align: top;\n",
       "    }\n",
       "\n",
       "    .dataframe thead th {\n",
       "        text-align: right;\n",
       "    }\n",
       "</style>\n",
       "<table border=\"1\" class=\"dataframe\">\n",
       "  <thead>\n",
       "    <tr style=\"text-align: right;\">\n",
       "      <th></th>\n",
       "      <th>secType</th>\n",
       "      <th>conId</th>\n",
       "      <th>symbol</th>\n",
       "      <th>lastTradeDateOrContractMonth</th>\n",
       "      <th>strike</th>\n",
       "      <th>right</th>\n",
       "      <th>multiplier</th>\n",
       "      <th>exchange</th>\n",
       "      <th>primaryExchange</th>\n",
       "      <th>currency</th>\n",
       "      <th>localSymbol</th>\n",
       "      <th>tradingClass</th>\n",
       "      <th>includeExpired</th>\n",
       "      <th>secIdType</th>\n",
       "      <th>secId</th>\n",
       "      <th>comboLegsDescrip</th>\n",
       "      <th>comboLegs</th>\n",
       "      <th>deltaNeutralContract</th>\n",
       "    </tr>\n",
       "  </thead>\n",
       "  <tbody>\n",
       "    <tr>\n",
       "      <td>0</td>\n",
       "      <td>IOPT</td>\n",
       "      <td>382147169</td>\n",
       "      <td>DAX</td>\n",
       "      <td>NOEXP</td>\n",
       "      <td>12081.2263</td>\n",
       "      <td>C</td>\n",
       "      <td>0.01</td>\n",
       "      <td>FWB</td>\n",
       "      <td></td>\n",
       "      <td>EUR</td>\n",
       "      <td>KA33LU</td>\n",
       "      <td>DAX</td>\n",
       "      <td>False</td>\n",
       "      <td></td>\n",
       "      <td></td>\n",
       "      <td></td>\n",
       "      <td>None</td>\n",
       "      <td>None</td>\n",
       "    </tr>\n",
       "    <tr>\n",
       "      <td>1</td>\n",
       "      <td>IOPT</td>\n",
       "      <td>382147169</td>\n",
       "      <td>DAX</td>\n",
       "      <td>NOEXP</td>\n",
       "      <td>12081.2263</td>\n",
       "      <td>C</td>\n",
       "      <td>0.01</td>\n",
       "      <td>SWB</td>\n",
       "      <td></td>\n",
       "      <td>EUR</td>\n",
       "      <td>KA33LU</td>\n",
       "      <td>DAX</td>\n",
       "      <td>False</td>\n",
       "      <td></td>\n",
       "      <td></td>\n",
       "      <td></td>\n",
       "      <td>None</td>\n",
       "      <td>None</td>\n",
       "    </tr>\n",
       "  </tbody>\n",
       "</table>\n",
       "</div>"
      ],
      "text/plain": [
       "  secType      conId symbol lastTradeDateOrContractMonth      strike right  \\\n",
       "0    IOPT  382147169    DAX                        NOEXP  12081.2263     C   \n",
       "1    IOPT  382147169    DAX                        NOEXP  12081.2263     C   \n",
       "\n",
       "  multiplier exchange primaryExchange currency localSymbol tradingClass  \\\n",
       "0       0.01      FWB                      EUR      KA33LU          DAX   \n",
       "1       0.01      SWB                      EUR      KA33LU          DAX   \n",
       "\n",
       "   includeExpired secIdType secId comboLegsDescrip comboLegs  \\\n",
       "0           False                                       None   \n",
       "1           False                                       None   \n",
       "\n",
       "  deltaNeutralContract  \n",
       "0                 None  \n",
       "1                 None  "
      ]
     },
     "execution_count": 6,
     "metadata": {},
     "output_type": "execute_result"
    }
   ],
   "source": [
    "util.df(contracts)"
   ]
  },
  {
   "cell_type": "markdown",
   "metadata": {},
   "source": [
    "Or use a dict comprehension of set comprehensions..."
   ]
  },
  {
   "cell_type": "code",
   "execution_count": 7,
   "metadata": {},
   "outputs": [
    {
     "data": {
      "text/plain": [
       "{'secType': {'IOPT'},\n",
       " 'conId': {382147169},\n",
       " 'symbol': {'DAX'},\n",
       " 'lastTradeDateOrContractMonth': {'NOEXP'},\n",
       " 'strike': {12081.2263},\n",
       " 'right': {'C'},\n",
       " 'multiplier': {'0.01'},\n",
       " 'exchange': {'FWB', 'SWB'},\n",
       " 'primaryExchange': {''},\n",
       " 'currency': {'EUR'},\n",
       " 'localSymbol': {'KA33LU'},\n",
       " 'tradingClass': {'DAX'},\n",
       " 'includeExpired': {False},\n",
       " 'secIdType': {''},\n",
       " 'secId': {''},\n",
       " 'comboLegsDescrip': {''},\n",
       " 'comboLegs': {None},\n",
       " 'deltaNeutralContract': {None}}"
      ]
     },
     "execution_count": 7,
     "metadata": {},
     "output_type": "execute_result"
    }
   ],
   "source": [
    "{key: set(getattr(c, key) for c in contracts) for key in Contract.defaults}"
   ]
  },
  {
   "cell_type": "markdown",
   "metadata": {},
   "source": [
    "We can see from this that AMD trades in different currencies on different exchanges.\n",
    "Suppose we want the one in USD on the SMART exchange. The AMD contract is adjusted to\n",
    "reflect that and becomes unique:"
   ]
  },
  {
   "cell_type": "code",
   "execution_count": 8,
   "metadata": {},
   "outputs": [],
   "source": [
    "amd = Stock('AMD', 'SMART', 'USD')\n",
    "\n",
    "assert len(ib.reqContractDetails(amd)) == 1"
   ]
  },
  {
   "cell_type": "markdown",
   "metadata": {},
   "source": [
    "Lets try the same for Intel:"
   ]
  },
  {
   "cell_type": "code",
   "execution_count": 9,
   "metadata": {},
   "outputs": [],
   "source": [
    "intc = Stock('INTC', 'SMART', 'USD')\n",
    "\n",
    "assert len(ib.reqContractDetails(intc)) == 1"
   ]
  },
  {
   "cell_type": "markdown",
   "metadata": {},
   "source": [
    "Let's try a non-existing contract:"
   ]
  },
  {
   "cell_type": "code",
   "execution_count": 10,
   "metadata": {},
   "outputs": [
    {
     "name": "stderr",
     "output_type": "stream",
     "text": [
      "Error 200, reqId 6: No security definition has been found for the request, contract: Stock(symbol='XXX', exchange='SMART', currency='USD')\n"
     ]
    }
   ],
   "source": [
    "xxx = Stock('XXX', 'SMART', 'USD')\n",
    "\n",
    "assert len(ib.reqContractDetails(xxx)) == 0"
   ]
  },
  {
   "cell_type": "markdown",
   "metadata": {},
   "source": [
    "or a Forex contract"
   ]
  },
  {
   "cell_type": "code",
   "execution_count": 11,
   "metadata": {},
   "outputs": [],
   "source": [
    "eurusd = Forex('EURUSD')\n",
    "\n",
    "assert len(ib.reqContractDetails(eurusd)) == 1"
   ]
  },
  {
   "cell_type": "markdown",
   "metadata": {},
   "source": [
    "With the ``qualifyContracts`` method the extra information that is send back\n",
    "from the contract details request is used to fill in the original contracts.\n",
    "\n",
    "Lets do that with ``amd`` and compare before and aftwards:"
   ]
  },
  {
   "cell_type": "code",
   "execution_count": 12,
   "metadata": {},
   "outputs": [
    {
     "data": {
      "text/plain": [
       "Stock(symbol='AMD', exchange='SMART', currency='USD')"
      ]
     },
     "execution_count": 12,
     "metadata": {},
     "output_type": "execute_result"
    }
   ],
   "source": [
    "amd"
   ]
  },
  {
   "cell_type": "code",
   "execution_count": 13,
   "metadata": {},
   "outputs": [
    {
     "data": {
      "text/plain": [
       "Stock(conId=4391, symbol='AMD', exchange='SMART', primaryExchange='NASDAQ', currency='USD', localSymbol='AMD', tradingClass='NMS')"
      ]
     },
     "execution_count": 13,
     "metadata": {},
     "output_type": "execute_result"
    }
   ],
   "source": [
    "ib.qualifyContracts(amd)\n",
    "amd"
   ]
  },
  {
   "cell_type": "markdown",
   "metadata": {},
   "source": [
    "**TIP:** When printing a contract, the output can be copy-pasted and it will be valid Python code.\n",
    "\n",
    "The ``conId`` that is returned can by itself be used to uniquely specify a contract:"
   ]
  },
  {
   "cell_type": "code",
   "execution_count": 14,
   "metadata": {},
   "outputs": [],
   "source": [
    "contract_4391 = Contract(conId=4391)\n",
    "\n",
    "ib.qualifyContracts(contract_4391)\n",
    "\n",
    "assert contract_4391 == amd"
   ]
  },
  {
   "cell_type": "markdown",
   "metadata": {},
   "source": [
    "A whole bunch of contracts can be qualified at the same time. A list of all the successfull ones is returned:"
   ]
  },
  {
   "cell_type": "code",
   "execution_count": 15,
   "metadata": {},
   "outputs": [
    {
     "name": "stderr",
     "output_type": "stream",
     "text": [
      "Error 200, reqId 12: No security definition has been found for the request, contract: Stock(symbol='XXX', exchange='SMART', currency='USD')\n",
      "Unknown contract: Stock(symbol='XXX', exchange='SMART', currency='USD')\n"
     ]
    }
   ],
   "source": [
    "qualContracts = ib.qualifyContracts(amd, intc, xxx, eurusd)\n",
    "\n",
    "assert intc in qualContracts\n",
    "assert xxx not in qualContracts"
   ]
  },
  {
   "cell_type": "markdown",
   "metadata": {},
   "source": [
    "There is also a new API function to request contracts that match a pattern:"
   ]
  },
  {
   "cell_type": "code",
   "execution_count": 16,
   "metadata": {},
   "outputs": [
    {
     "data": {
      "text/plain": [
       "[Contract(secType='STK', conId=172096099, symbol='INTELLECT', primaryExchange='NSE', currency='INR'),\n",
       " Contract(secType='STK', conId=12178234, symbol='INTC', primaryExchange='EBS', currency='CHF'),\n",
       " Contract(secType='STK', conId=12177196, symbol='INL', primaryExchange='FWB', currency='EUR'),\n",
       " Contract(secType='STK', conId=8988636, symbol='4335', primaryExchange='SEHK', currency='HKD'),\n",
       " Contract(secType='STK', conId=270639, symbol='INTC', primaryExchange='NASDAQ.NMS', currency='USD'),\n",
       " Contract(secType='STK', conId=38709539, symbol='INTC', primaryExchange='MEXI', currency='MXN'),\n",
       " Contract(secType='STK', conId=11463493, symbol='INTCUSD', primaryExchange='EBS', currency='USD'),\n",
       " Contract(secType='STK', conId=257312042, symbol='002600', primaryExchange='SEHKSZSE', currency='CNH'),\n",
       " Contract(secType='STK', conId=165301734, symbol='601877', primaryExchange='SEHKNTL', currency='CNH'),\n",
       " Contract(secType='STK', conId=257311331, symbol='002050', primaryExchange='SEHKSZSE', currency='CNH'),\n",
       " Contract(secType='STK', conId=280799963, symbol='300450', primaryExchange='CHINEXT', currency='CNH'),\n",
       " Contract(secType='STK', conId=125919360, symbol='I', primaryExchange='NYSE', currency='USD'),\n",
       " Contract(secType='STK', conId=223571598, symbol='GOL', primaryExchange='NYSE', currency='USD'),\n",
       " Contract(secType='STK', conId=165302232, symbol='600545', primaryExchange='SEHKNTL', currency='CNH'),\n",
       " Contract(secType='STK', conId=261730485, symbol='002402', primaryExchange='SEHKSZSE', currency='CNH'),\n",
       " Contract(secType='STK', conId=257312713, symbol='002421', primaryExchange='SEHKSZSE', currency='CNH')]"
      ]
     },
     "execution_count": 16,
     "metadata": {},
     "output_type": "execute_result"
    }
   ],
   "source": [
    "matches = ib.reqMatchingSymbols('Intel')\n",
    "matchContracts = [m.contract for m in matches]\n",
    "\n",
    "matchContracts"
   ]
  },
  {
   "cell_type": "code",
   "execution_count": null,
   "metadata": {},
   "outputs": [],
   "source": [
    "assert intc in matchContracts"
   ]
  },
  {
   "cell_type": "code",
   "execution_count": null,
   "metadata": {},
   "outputs": [],
   "source": []
  }
 ],
 "metadata": {
  "kernelspec": {
   "display_name": "Python 3",
   "language": "python",
   "name": "python3"
  },
  "language_info": {
   "codemirror_mode": {
    "name": "ipython",
    "version": 3
   },
   "file_extension": ".py",
   "mimetype": "text/x-python",
   "name": "python",
   "nbconvert_exporter": "python",
   "pygments_lexer": "ipython3",
   "version": "3.6.9"
  }
 },
 "nbformat": 4,
 "nbformat_minor": 2
}
