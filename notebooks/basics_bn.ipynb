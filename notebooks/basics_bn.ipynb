{
 "cells": [
  {
   "cell_type": "markdown",
   "metadata": {},
   "source": [
    "# Basics\n",
    "\n",
    "Let's first take a look at what's inside the ``ib_insync`` package:"
   ]
  },
  {
   "cell_type": "code",
   "execution_count": 1,
   "metadata": {
    "scrolled": true
   },
   "outputs": [
    {
     "name": "stdout",
     "output_type": "stream",
     "text": [
      "['util', 'Event', 'Object', 'ContractDetails', 'ContractDescription', 'ComboLeg', 'DeltaNeutralContract', 'OrderComboLeg', 'OrderState', 'SoftDollarTier', 'PriceIncrement', 'Execution', 'CommissionReport', 'BarList', 'BarDataList', 'RealTimeBarList', 'BarData', 'RealTimeBar', 'HistogramData', 'NewsProvider', 'DepthMktDataDescription', 'ScannerSubscription', 'ScanData', 'ScanDataList', 'FundamentalRatios', 'ExecutionFilter', 'PnL', 'PnLSingle', 'AccountValue', 'TickData', 'TickByTickAllLast', 'TickByTickBidAsk', 'TickByTickMidPoint', 'HistoricalTick', 'HistoricalTickBidAsk', 'HistoricalTickLast', 'TickAttrib', 'TickAttribBidAsk', 'TickAttribLast', 'MktDepthData', 'DOMLevel', 'BracketOrder', 'TradeLogEntry', 'TagValue', 'FamilyCode', 'SmartComponent', 'PortfolioItem', 'Position', 'Fill', 'OptionComputation', 'OptionChain', 'Dividends', 'NewsArticle', 'HistoricalNews', 'NewsTick', 'NewsBulletin', 'ConnectionStats', 'Contract', 'Stock', 'Option', 'Future', 'ContFuture', 'Forex', 'Index', 'CFD', 'Commodity', 'Bond', 'FuturesOption', 'MutualFund', 'Warrant', 'Bag', 'Trade', 'OrderStatus', 'Order', 'LimitOrder', 'MarketOrder', 'StopOrder', 'StopLimitOrder', 'OrderCondition', 'ExecutionCondition', 'MarginCondition', 'TimeCondition', 'PriceCondition', 'PercentChangeCondition', 'VolumeCondition', 'Ticker', 'IB', 'Client', 'Wrapper', 'FlexReport', 'FlexError', 'IBC', 'IBController', 'Watchdog']\n"
     ]
    }
   ],
   "source": [
    "import ib_insync\n",
    "print(ib_insync.__all__)"
   ]
  },
  {
   "cell_type": "markdown",
   "metadata": {},
   "source": [
    "### Importing\n",
    "The following two lines are used at the top of all notebooks. The first line imports everything and the second\n",
    "starts an event loop to keep the notebook live updated:"
   ]
  },
  {
   "cell_type": "code",
   "execution_count": 2,
   "metadata": {},
   "outputs": [],
   "source": [
    "from ib_insync import *\n",
    "util.startLoop()"
   ]
  },
  {
   "cell_type": "markdown",
   "metadata": {},
   "source": [
    "*Note that startLoop() only works in notebooks, not in regular Python programs.*"
   ]
  },
  {
   "cell_type": "markdown",
   "metadata": {},
   "source": [
    "### Connecting\n",
    "The main player of the whole package is the \"IB\" class. Let's create an IB instance and connect to a running TWS/IBG application:"
   ]
  },
  {
   "cell_type": "code",
   "execution_count": 3,
   "metadata": {
    "scrolled": true
   },
   "outputs": [
    {
     "data": {
      "text/plain": [
       "<IB connected to 127.0.0.1:7497 clientId=111230>"
      ]
     },
     "execution_count": 3,
     "metadata": {},
     "output_type": "execute_result"
    }
   ],
   "source": [
    "ib = IB()\n",
    "ib.connect('127.0.0.1', 7497, clientId=111230)"
   ]
  },
  {
   "cell_type": "markdown",
   "metadata": {},
   "source": [
    "If the connection failed, then verify that the application has the API port enabled and double-check the hostname and port. For IB Gateway the default port is 4002. Make sure the clientId is not already in use.\n",
    "\n",
    "If the connection succeeded, then ib will be synchronized with TWS/IBG. The \"current state\" is now available via methods such as ib.positions(), ib.trades(), ib.openTrades(), ib.accountValues() or ib.tickers(). Let's list the current positions:"
   ]
  },
  {
   "cell_type": "code",
   "execution_count": 4,
   "metadata": {},
   "outputs": [
    {
     "data": {
      "text/plain": [
<<<<<<< HEAD
       "[Position(account='DU946735', contract=Contract(secType='CASH', conId=12087792, symbol='EUR', currency='USD', localSymbol='EUR.USD', tradingClass='EUR.USD'), position=186000.0, avgCost=1.2182257),\n",
       " Position(account='DU946735', contract=Contract(secType='CFD', conId=111987422, symbol='IBDE30', currency='EUR', localSymbol='IBDE30', tradingClass='IBDE30'), position=25.0, avgCost=11655.669984)]"
=======
       "[Position(account='DU772802', contract=Stock(conId=9579970, symbol='IWM', exchange='ARCA', currency='USD', localSymbol='IWM', tradingClass='IWM'), position=600.0, avgCost=149.368),\n",
       " Position(account='DU772802', contract=Forex('EURUSD', conId=12087792, localSymbol='EUR.USD', tradingClass='EUR.USD'), position=20200.0, avgCost=1.13304245),\n",
       " Position(account='DU772802', contract=Stock(conId=265598, symbol='AAPL', exchange='NASDAQ', currency='USD', localSymbol='AAPL', tradingClass='NMS'), position=1951.0, avgCost=184.81230565)]"
>>>>>>> remotes/upstream/master
      ]
     },
     "execution_count": 4,
     "metadata": {},
     "output_type": "execute_result"
    }
   ],
   "source": [
    "ib.positions()"
   ]
  },
  {
   "cell_type": "markdown",
   "metadata": {},
   "source": [
    "Or filter the account values to get the liquidation value:"
   ]
  },
  {
   "cell_type": "code",
   "execution_count": 5,
   "metadata": {},
   "outputs": [
    {
     "data": {
      "text/plain": [
<<<<<<< HEAD
       "[AccountValue(account='DU946735', tag='NetLiquidationByCurrency', value='959718.1626', currency='BASE', modelCode='')]"
=======
       "[AccountValue(account='DU772802', tag='NetLiquidationByCurrency', value='895655.5743', currency='BASE', modelCode='')]"
>>>>>>> remotes/upstream/master
      ]
     },
     "execution_count": 5,
     "metadata": {},
     "output_type": "execute_result"
    }
   ],
   "source": [
    "[v for v in ib.accountValues() if v.tag == 'NetLiquidationByCurrency' and v.currency == 'BASE']"
   ]
  },
  {
   "cell_type": "markdown",
   "metadata": {},
   "source": [
    "The \"current state\" will automatically be kept in sync with TWS/IBG. So an order fill will be added as soon as it is reported, or account values will be updated as soon as they change in TWS."
   ]
  },
  {
   "cell_type": "markdown",
   "metadata": {},
   "source": [
    "### Contracts\n",
    "\n",
    "Contracts can be specified in different ways:\n",
    "* The ibapi way, by creating an empty Contract object and setting its attributes one by one;\n",
    "* By using Contract and giving the attributes as keyword argument;\n",
    "* By using the specialized Stock, Option, Future, Forex, Index, CFD, Commodity,\n",
    "  Bond, FuturesOption, MutualFund or Warrant contracts.\n",
    "\n",
    "Some examples:"
   ]
  },
  {
   "cell_type": "code",
   "execution_count": 6,
   "metadata": {},
   "outputs": [],
   "source": [
    "Contract(conId=270639)\n",
    "Stock('AMD', 'SMART', 'USD')\n",
    "Stock('INTC', 'SMART', 'USD', primaryExchange='NASDAQ')\n",
    "Forex('EURUSD')\n",
    "CFD('IBUS30')\n",
    "Future('ES', '20180921', 'GLOBEX')\n",
    "Option('SPY', '20170721', 240, 'C', 'SMART')\n",
    "Bond(secIdType='ISIN', secId='US03076KAA60');"
   ]
  },
  {
   "cell_type": "markdown",
   "metadata": {},
   "source": [
    "### Sending a request\n",
    "\n",
    "The IB class has nearly all request methods that the IB API offers. The methods that return a result will block until finished and then return the result. Take for example reqContractDetails:"
   ]
  },
  {
   "cell_type": "code",
   "execution_count": 7,
   "metadata": {},
   "outputs": [
    {
<<<<<<< HEAD
     "name": "stdout",
     "output_type": "stream",
     "text": [
      "CPU times: user 111 ms, sys: 2.54 ms, total: 114 ms\n",
      "Wall time: 675 ms\n"
     ]
=======
     "data": {
      "text/plain": [
       "[ContractDetails(contract=Contract(secType='STK', conId=76792991, symbol='TSLA', exchange='SMART', primaryExchange='NASDAQ', currency='USD', localSymbol='TSLA', tradingClass='NMS'), marketName='NMS', minTick=0.01, orderTypes='ACTIVETIM,ADJUST,ALERT,ALGO,ALLOC,AVGCOST,BASKET,BENCHPX,COND,CONDORDER,DARKONLY,DARKPOLL,DAY,DEACT,DEACTDIS,DEACTEOD,DIS,GAT,GTC,GTD,GTT,HID,IBKRATS,ICE,IMB,IOC,LIT,LMT,LOC,MIDPX,MIT,MKT,MOC,MTL,NGCOMB,NODARK,NONALGO,OCA,OPG,OPGREROUT,PEGBENCH,POSTONLY,PREOPGRTH,REL,RPI,RTH,SCALE,SCALEODD,SCALERST,SMARTSTG,SNAPMID,SNAPMKT,SNAPREL,STP,STPLMT,SWEEP,TRAIL,TRAILLIT,TRAILLMT,TRAILMIT,WHATIF', validExchanges='SMART,AMEX,NYSE,CBOE,PHLX,ISE,CHX,ARCA,ISLAND,DRCTEDGE,BEX,BATS,EDGEA,CSFBALGO,JEFFALGO,BYX,IEX,FOXRIVER,NYSENAT,PSX', priceMagnifier='1', longName='TESLA INC', industry='Consumer, Cyclical', category='Auto Manufacturers', subcategory='Auto-Cars/Light Trucks', timeZoneId='EST5EDT', tradingHours='20190415:0400-20190415:2000;20190416:0400-20190416:2000;20190417:0400-20190417:2000;20190418:0400-20190418:2000;20190419:CLOSED;20190420:CLOSED;20190421:CLOSED;20190422:0400-20190422:2000;20190423:0400-20190423:2000;20190424:0400-20190424:2000;20190425:0400-20190425:2000;20190426:0400-20190426:2000;20190427:CLOSED;20190428:CLOSED;20190429:0400-20190429:2000;20190430:0400-20190430:2000;20190501:0400-20190501:2000;20190502:0400-20190502:2000;20190503:0400-20190503:2000;20190504:CLOSED;20190505:CLOSED;20190506:0400-20190506:2000;20190507:0400-20190507:2000;20190508:0400-20190508:2000;20190509:0400-20190509:2000;20190510:0400-20190510:2000;20190511:CLOSED;20190512:CLOSED;20190513:0400-20190513:2000;20190514:0400-20190514:2000;20190515:0400-20190515:2000;20190516:0400-20190516:2000;20190517:0400-20190517:2000;20190518:CLOSED;20190519:CLOSED', liquidHours='20190415:0930-20190415:1600;20190416:0930-20190416:1600;20190417:0930-20190417:1600;20190418:0930-20190418:1600;20190419:CLOSED;20190420:CLOSED;20190421:CLOSED;20190422:0930-20190422:1600;20190423:0930-20190423:1600;20190424:0930-20190424:1600;20190425:0930-20190425:1600;20190426:0930-20190426:1600;20190427:CLOSED;20190428:CLOSED;20190429:0930-20190429:1600;20190430:0930-20190430:1600;20190501:0930-20190501:1600;20190502:0930-20190502:1600;20190503:0930-20190503:1600;20190504:CLOSED;20190505:CLOSED;20190506:0930-20190506:1600;20190507:0930-20190507:1600;20190508:0930-20190508:1600;20190509:0930-20190509:1600;20190510:0930-20190510:1600;20190511:CLOSED;20190512:CLOSED;20190513:0930-20190513:1600;20190514:0930-20190514:1600;20190515:0930-20190515:1600;20190516:0930-20190516:1600;20190517:0930-20190517:1600;20190518:CLOSED;20190519:CLOSED', mdSizeMultiplier=100, aggGroup=1, marketRuleIds='26,26,26,26,26,26,26,26,26,26,26,26,26,26,26,26,26,26,26,26')]"
      ]
     },
     "execution_count": 7,
     "metadata": {},
     "output_type": "execute_result"
>>>>>>> remotes/upstream/master
    }
   ],
   "source": [
    "contract = Stock('TSLA', 'SMART', 'USD')\n",
    "ib.reqContractDetails(contract)"
   ]
  },
  {
   "cell_type": "markdown",
   "metadata": {},
   "source": [
    "### Current state vs request\n",
    "\n",
    "Doing a request involves network traffic going up and down and can take considerable time. The current state on the other hand is always immediately available. So it is preferable to use the current state methods over requests. For example, use ``ib.openOrders()`` in preference over ``ib.reqOpenOrders()``, or ``ib.positions()`` over ``ib.reqPositions()``, etc:"
   ]
  },
  {
   "cell_type": "code",
   "execution_count": 8,
   "metadata": {},
   "outputs": [
    {
<<<<<<< HEAD
     "data": {
      "text/plain": [
       "[ContractDetails(marketName='NMS', minTick=0.01, orderTypes='ACTIVETIM,ADJUST,ALERT,ALGO,ALLOC,AVGCOST,BASKET,BENCHPX,COND,CONDORDER,DARKONLY,DARKPOLL,DAY,DEACT,DEACTDIS,DEACTEOD,DIS,GAT,GTC,GTD,GTT,HID,IBKRATS,ICE,IMB,IOC,LIT,LMT,LOC,MIT,MKT,MOC,MTL,NGCOMB,NODARK,NONALGO,OCA,OPG,OPGREROUT,PEGBENCH,POSTONLY,PREOPGRTH,REL,RPI,RTH,SCALE,SCALEODD,SCALERST,SMARTSTG,SNAPMID,SNAPMKT,SNAPREL,STP,STPLMT,SWEEP,TRAIL,TRAILLIT,TRAILLMT,TRAILMIT,WHATIF', validExchanges='SMART,AMEX,NYSE,CBOE,PHLX,ISE,CHX,ARCA,ISLAND,DRCTEDGE,BEX,BATS,EDGEA,CSFBALGO,JEFFALGO,BYX,IEX,EDGX,FOXRIVER,NYSENAT,PSX', priceMagnifier=1, longName='TESLA INC', industry='Consumer, Cyclical', category='Auto Manufacturers', subcategory='Auto-Cars/Light Trucks', timeZoneId='EST5EDT', tradingHours='20190927:0400-20190927:2000;20190928:CLOSED;20190929:CLOSED;20190930:0400-20190930:2000;20191001:0400-20191001:2000;20191002:0400-20191002:2000;20191003:0400-20191003:2000;20191004:0400-20191004:2000;20191005:CLOSED;20191006:CLOSED;20191007:0400-20191007:2000;20191008:0400-20191008:2000;20191009:0400-20191009:2000;20191010:0400-20191010:2000;20191011:0400-20191011:2000;20191012:CLOSED;20191013:CLOSED;20191014:0400-20191014:2000;20191015:0400-20191015:2000;20191016:0400-20191016:2000;20191017:0400-20191017:2000;20191018:0400-20191018:2000;20191019:CLOSED;20191020:CLOSED;20191021:0400-20191021:2000;20191022:0400-20191022:2000;20191023:0400-20191023:2000;20191024:0400-20191024:2000;20191025:0400-20191025:2000;20191026:CLOSED;20191027:CLOSED;20191028:0400-20191028:2000;20191029:0400-20191029:2000;20191030:0400-20191030:2000;20191031:0400-20191031:2000', liquidHours='20190927:0930-20190927:1600;20190928:CLOSED;20190929:CLOSED;20190930:0930-20190930:1600;20191001:0930-20191001:1600;20191002:0930-20191002:1600;20191003:0930-20191003:1600;20191004:0930-20191004:1600;20191005:CLOSED;20191006:CLOSED;20191007:0930-20191007:1600;20191008:0930-20191008:1600;20191009:0930-20191009:1600;20191010:0930-20191010:1600;20191011:0930-20191011:1600;20191012:CLOSED;20191013:CLOSED;20191014:0930-20191014:1600;20191015:0930-20191015:1600;20191016:0930-20191016:1600;20191017:0930-20191017:1600;20191018:0930-20191018:1600;20191019:CLOSED;20191020:CLOSED;20191021:0930-20191021:1600;20191022:0930-20191022:1600;20191023:0930-20191023:1600;20191024:0930-20191024:1600;20191025:0930-20191025:1600;20191026:CLOSED;20191027:CLOSED;20191028:0930-20191028:1600;20191029:0930-20191029:1600;20191030:0930-20191030:1600;20191031:0930-20191031:1600', mdSizeMultiplier=100, aggGroup=1, marketRuleIds='26,26,26,26,26,26,26,26,26,26,26,26,26,26,26,26,26,26,26,26,26', summary=Contract(secType='STK', conId=76792991, symbol='TSLA', exchange='SMART', primaryExchange='NASDAQ', currency='USD', localSymbol='TSLA', tradingClass='NMS'))]"
      ]
     },
     "execution_count": 8,
     "metadata": {},
     "output_type": "execute_result"
=======
     "name": "stdout",
     "output_type": "stream",
     "text": [
      "CPU times: user 11 µs, sys: 4 µs, total: 15 µs\n",
      "Wall time: 21.2 µs\n"
     ]
>>>>>>> remotes/upstream/master
    }
   ],
   "source": [
    "%time l = ib.positions()"
   ]
  },
  {
   "cell_type": "code",
   "execution_count": 9,
   "metadata": {},
   "outputs": [
    {
     "name": "stdout",
     "output_type": "stream",
     "text": [
      "CPU times: user 998 µs, sys: 1 µs, total: 999 µs\n",
      "Wall time: 4.99 ms\n"
     ]
    }
   ],
   "source": [
    "%time l = ib.reqPositions()"
   ]
  },
  {
   "cell_type": "markdown",
   "metadata": {},
   "source": [
    "### Logging\n",
    "\n",
    "The following will put log messages of INFO and higher level under the current active cell:"
   ]
  },
  {
   "cell_type": "code",
<<<<<<< HEAD
   "execution_count": 9,
   "metadata": {},
=======
   "execution_count": 10,
   "metadata": {
    "collapsed": true
   },
>>>>>>> remotes/upstream/master
   "outputs": [],
   "source": [
    "util.logToConsole()"
   ]
  },
  {
   "cell_type": "markdown",
   "metadata": {},
   "source": [
    "To see all debug messages (including network traffic):"
   ]
  },
  {
   "cell_type": "code",
<<<<<<< HEAD
   "execution_count": 10,
   "metadata": {},
=======
   "execution_count": 11,
   "metadata": {
    "collapsed": true
   },
>>>>>>> remotes/upstream/master
   "outputs": [],
   "source": [
    "import logging\n",
    "util.logToConsole(logging.DEBUG)"
   ]
  },
  {
   "cell_type": "markdown",
   "metadata": {},
   "source": [
    "### Disconnecting\n",
    "\n",
    "The following will disconnect ``ib`` and clear all its state:"
   ]
  },
  {
   "cell_type": "code",
   "execution_count": 12,
   "metadata": {},
   "outputs": [
    {
     "name": "stderr",
     "output_type": "stream",
     "text": [
<<<<<<< HEAD
      "2019-09-28 03:15:36,790 ibapi.client DEBUG 140285400770488 isConn: 2, connConnected: True\n",
      "2019-09-28 03:15:36,791 ib_insync.ib INFO Disconnecting from 127.0.0.1:7497, 148 B sent in 7 messages, 19.1 kB received in 360 messages, session time 33.9 s.\n",
      "2019-09-28 03:15:36,792 ibapi.client DEBUG 140285400770488 connState: 2 -> 0\n",
      "2019-09-28 03:15:36,792 ibapi.client INFO disconnecting\n",
      "2019-09-28 03:15:36,793 ibapi.wrapper INFO ANSWER connectionClosed {}\n",
      "2019-09-28 03:15:36,793 ibapi.client DEBUG 140285400770488 connState: None -> 0\n",
      "2019-09-28 03:15:36,796 ibapi.client DEBUG 140285400770488 isConn: 0, connConnected: None\n",
      "2019-09-28 03:15:36,797 ib_insync.client INFO Disconnected\n",
      "2019-09-28 03:15:36,798 ibapi.client DEBUG 140285400770488 connState: None -> 0\n"
=======
      "2019-04-15 14:11:26,648 ib_insync.ib INFO Disconnecting from 127.0.0.1:7497, 153 B sent in 8 messages, 21.3 kB received in 380 messages, session time 18.3 s.\n",
      "2019-04-15 14:11:26,650 ib_insync.client INFO Disconnecting\n",
      "2019-04-15 14:11:26,652 ib_insync.client INFO Disconnected\n"
>>>>>>> remotes/upstream/master
     ]
    }
   ],
   "source": [
    "ib.disconnect()"
   ]
<<<<<<< HEAD
  },
  {
   "cell_type": "code",
   "execution_count": null,
   "metadata": {},
   "outputs": [],
   "source": []
=======
>>>>>>> remotes/upstream/master
  }
 ],
 "metadata": {
  "kernelspec": {
   "display_name": "Python 3",
   "language": "python",
   "name": "python3"
  },
  "language_info": {
   "codemirror_mode": {
    "name": "ipython",
    "version": 3
   },
   "file_extension": ".py",
   "mimetype": "text/x-python",
   "name": "python",
   "nbconvert_exporter": "python",
   "pygments_lexer": "ipython3",
<<<<<<< HEAD
   "version": "3.6.9"
=======
   "version": "3.7.3"
>>>>>>> remotes/upstream/master
  }
 },
 "nbformat": 4,
 "nbformat_minor": 2
}
